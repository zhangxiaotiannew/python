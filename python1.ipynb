{
 "cells": [
  {
   "cell_type": "markdown",
   "id": "bfe13ffd",
   "metadata": {},
   "source": [
    "## if else判定语句"
   ]
  },
  {
   "cell_type": "markdown",
   "id": "5d5cd55b",
   "metadata": {},
   "source": [
    "### 首先从python基础库（标准库中）找到datetime模块"
   ]
  },
  {
   "cell_type": "code",
   "execution_count": 1,
   "id": "cc8b66cc",
   "metadata": {},
   "outputs": [
    {
     "data": {
      "text/plain": [
       "datetime.datetime(2021, 9, 13, 12, 31, 26, 103925)"
      ]
     },
     "execution_count": 1,
     "metadata": {},
     "output_type": "execute_result"
    }
   ],
   "source": [
    "from datetime import datetime\n",
    "datetime.today()"
   ]
  },
  {
   "cell_type": "markdown",
   "id": "95e85a7f",
   "metadata": {},
   "source": [
    "### 从奇数中选择对应的时间节点"
   ]
  },
  {
   "cell_type": "code",
   "execution_count": 4,
   "id": "f1eb4ea6",
   "metadata": {},
   "outputs": [
    {
     "name": "stdout",
     "output_type": "stream",
     "text": [
      "时间是奇数，时间在odds的数据中\n"
     ]
    }
   ],
   "source": [
    "odds =[1,3,5,7,9,11,13,15,17,19,21,23,25,27,29,31,33,35,37,39,41,43,45,47,49,51,53,55,57,59]\n",
    "right_this_minute = datetime.today().minute\n",
    "if right_this_minute in odds:\n",
    "    print(\"时间是奇数，时间在odds的数据中\")\n",
    "else:\n",
    "    print(\"not an odd minute\")"
   ]
  },
  {
   "cell_type": "code",
   "execution_count": 5,
   "id": "91aac511",
   "metadata": {},
   "outputs": [],
   "source": [
    "?time"
   ]
  },
  {
   "cell_type": "markdown",
   "id": "d5aaaf3f",
   "metadata": {},
   "source": [
    "### 让代码延迟运行"
   ]
  },
  {
   "cell_type": "code",
   "execution_count": 8,
   "id": "6a3a5377",
   "metadata": {},
   "outputs": [
    {
     "data": {
      "text/plain": [
       "1631508065.236673"
      ]
     },
     "execution_count": 8,
     "metadata": {},
     "output_type": "execute_result"
    }
   ],
   "source": [
    "import time\n",
    "time.sleep(3)\n",
    "time.time()\n",
    "# 3 秒后显示从计算机元年至今的秒数"
   ]
  },
  {
   "cell_type": "code",
   "execution_count": null,
   "id": "ba265198",
   "metadata": {},
   "outputs": [],
   "source": []
  }
 ],
 "metadata": {
  "kernelspec": {
   "display_name": "Python 3",
   "language": "python",
   "name": "python3"
  },
  "language_info": {
   "codemirror_mode": {
    "name": "ipython",
    "version": 3
   },
   "file_extension": ".py",
   "mimetype": "text/x-python",
   "name": "python",
   "nbconvert_exporter": "python",
   "pygments_lexer": "ipython3",
   "version": "3.8.8"
  }
 },
 "nbformat": 4,
 "nbformat_minor": 5
}
